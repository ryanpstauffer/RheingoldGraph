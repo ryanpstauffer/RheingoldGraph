{
 "cells": [
  {
   "cell_type": "markdown",
   "metadata": {},
   "source": [
    "# Training a Model on RheingoldGraph"
   ]
  },
  {
   "cell_type": "markdown",
   "metadata": {},
   "source": [
    "## Creating a training dataset"
   ]
  },
  {
   "cell_type": "markdown",
   "metadata": {},
   "source": [
    "As a way to quickly get up and running, we can use Colin Raffel's [Lakh MIDI Dataset](http://colinraffel.com/projects/lmd/).  The Clean MIDI subset is a great starting point.  This gives us about ~17,000 MIDI files to add to our graph."
   ]
  },
  {
   "cell_type": "markdown",
   "metadata": {},
   "source": [
    "If we want to simply convert our MIDI files to a single .tfrecord, we can do:\n",
    "\n",
    "```\n",
    "convert_dir_to_note_sequences \\\n",
    "  --input_dir=midi/clean_midi \\\n",
    " --output_file=sequences \\\n",
    " --recursive\n",
    " ```"
   ]
  },
  {
   "cell_type": "markdown",
   "metadata": {},
   "source": [
    "_Time to convert_???\n",
    "The first time I ran this locally, it definitely crashed my computer...used all my RAM (16GB) and filled up my HDD.  Soooo...there must be a better way."
   ]
  },
  {
   "cell_type": "markdown",
   "metadata": {},
   "source": [
    "While the Magenta project provides some great command line tools to convert many MIDI files to a single tf_record file, we want to actually add each MIDI file to the graph."
   ]
  },
  {
   "cell_type": "markdown",
   "metadata": {},
   "source": [
    "Convert the MIDI files to procol buffer NoteSequences (as per Magenta [Building your Dataset](https://github.com/tensorflow/magenta/blob/master/magenta/scripts/README.md))\n",
    "                                                    "
   ]
  },
  {
   "cell_type": "markdown",
   "metadata": {
    "collapsed": true
   },
   "source": [
    "Let's start with the Nottingham training set.  These are simple folk melodies that are a great starting point for training."
   ]
  },
  {
   "cell_type": "markdown",
   "metadata": {},
   "source": [
    "We can download the Nottingham training set here [site](http://www-etud.iro.umontreal.ca/~boulanni/icml2012)"
   ]
  },
  {
   "cell_type": "code",
   "execution_count": null,
   "metadata": {
    "collapsed": true
   },
   "outputs": [],
   "source": []
  }
 ],
 "metadata": {
  "kernelspec": {
   "display_name": "Python 3",
   "language": "python",
   "name": "python3"
  },
  "language_info": {
   "codemirror_mode": {
    "name": "ipython",
    "version": 3
   },
   "file_extension": ".py",
   "mimetype": "text/x-python",
   "name": "python",
   "nbconvert_exporter": "python",
   "pygments_lexer": "ipython3",
   "version": "3.6.3"
  }
 },
 "nbformat": 4,
 "nbformat_minor": 2
}
